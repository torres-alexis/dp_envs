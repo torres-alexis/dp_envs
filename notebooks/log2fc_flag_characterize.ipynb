{
 "cells": [
  {
   "attachments": {},
   "cell_type": "markdown",
   "metadata": {},
   "source": [
    "\n",
    "# Log2fc Flag Characterization\n",
    "\n",
    "## Purpose:\n",
    "\n",
    "- Further characterize log2fc that have signs different from the expected sign (when using the straightforward log2fc computation from group means)."
   ]
  },
  {
   "cell_type": "code",
   "execution_count": null,
   "metadata": {},
   "outputs": [],
   "source": [
    "import ast\n",
    "\n",
    "import pandas as pd\n",
    "pd.set_option('display.max_rows',None)\n",
    "pd.set_option('display.max_columns',None)"
   ]
  },
  {
   "cell_type": "code",
   "execution_count": null,
   "metadata": {
    "tags": [
     "parameters"
    ]
   },
   "outputs": [],
   "source": [
    "# Parameters\n",
    "DGE_TABLE_PATH = None # Path to DGE table\n",
    "VV_LOG_PATH = None # Path to VV log file\n",
    "OUTPUT_PATH = None # Path to output file"
   ]
  },
  {
   "cell_type": "code",
   "execution_count": null,
   "metadata": {},
   "outputs": [],
   "source": [
    "def parse_tuple(string):\n",
    "    try:\n",
    "        return tuple(ast.literal_eval(string))\n",
    "    except (SyntaxError, ValueError):\n",
    "        # Handle any parsing errors\n",
    "        return None\n",
    "\n",
    "# Load df_vv df_vv recognize the index column is a string representation of a tuple (the first column)\n",
    "df_vv = pd.read_csv(VV_LOG_PATH, sep=\"\\t\", index_col=0, converters={0: parse_tuple})\n",
    "# Columns in df_vv: 'description', 'sample(s)', 'function', 'code', 'message', 'code_level','kwargs', 'config']"
   ]
  },
  {
   "cell_type": "code",
   "execution_count": null,
   "metadata": {},
   "outputs": [],
   "source": [
    "# Find specific flag related to log2fc and whose index is a tuple with the last element == \"DGE Output\"\n",
    "target_message = df_vv.loc[df_vv[\"message\"].str.contains(\"log2fc\") & df_vv.index.map(lambda x: x[-1] == \"DGE Output\" if len(x) > 0 else False),'message']\n",
    "\n",
    "if len(target_message) == 1:\n",
    "    # Only one row is found\n",
    "    value = target_message[0]\n",
    "    print(\"Value:\", value)\n",
    "else:\n",
    "    # Either no rows or more than one row is found\n",
    "    print(\"Error: One and only one row expected, but found\", len(target_message), \"rows.\")"
   ]
  },
  {
   "cell_type": "code",
   "execution_count": null,
   "metadata": {},
   "outputs": [],
   "source": [
    "# Convert to json\n",
    "start_index = value.index(\"{\")  # Find the starting index of the JSON part\n",
    "dict_string = value[start_index:]  # Extract the JSON part from the string\n",
    "\n",
    "# Evaluate the JSON string as a dictionary using ast\n",
    "data = ast.literal_eval(dict_string)"
   ]
  },
  {
   "cell_type": "code",
   "execution_count": null,
   "metadata": {},
   "outputs": [],
   "source": [
    "# Convert data to dataframe\n",
    "df = pd.DataFrame(data).T # Transpose to have each flagged gene as a row"
   ]
  },
  {
   "cell_type": "code",
   "execution_count": null,
   "metadata": {},
   "outputs": [],
   "source": [
    "SMALL_COUNTS_THRESHOLD = 20\n",
    "original_count = len(df)\n",
    "# Filter out cases where the sum of all columns starting with Group.Mean is less than SMALL_COUNTS_THRESHOLD, these are considered small counts examples and are more likely heavily impacted by differences in the DESeq2 log2fc method and the direct computation method.\n",
    "df = df.loc[df.filter(regex=\"Group.Mean\").sum(axis=1) > SMALL_COUNTS_THRESHOLD]\n",
    "print(f\"Total number gene-rows: {original_count}\")\n",
    "print(\"Filtered out\", original_count - len(df), \"rows with sum of Group.Mean columns less than\", SMALL_COUNTS_THRESHOLD)\n",
    "\n",
    "# Create column for average Group.Mean and sort descending by that column\n",
    "df[\"Group.Mean_AVERAGE\"] = df.filter(regex=\"Group.Mean\").mean(axis=1)\n",
    "df.sort_values(by=\"Group.Mean_AVERAGE\", ascending=False, inplace=True) "
   ]
  },
  {
   "cell_type": "code",
   "execution_count": null,
   "metadata": {},
   "outputs": [],
   "source": [
    "df_dge = pd.read_csv(DGE_TABLE_PATH)\n",
    "# Use df_dge to find corresponding Group.Std_ values for each Group.Mean_ in df_vv, they should share indices\n",
    "df_dge = df_dge.loc[df.index]\n",
    "\n",
    "# Add Group.Stdev columns to df\n",
    "stdev_cols = df_dge.filter(regex=\"Group.Stdev\")\n",
    "\n",
    "# Column bind df and stdev_cols\n",
    "df = pd.concat([df, stdev_cols], axis=1)\n",
    "\n",
    "# Create ratio of Group.Mean to Group.Stdev for each Group.{Mean,Stdev}_(<GROUP>) column\n",
    "for col in df.filter(regex=\"Group.Mean\").columns:\n",
    "    if \"_AVERAGE\" in col:\n",
    "        continue\n",
    "    stdev_col = col.replace(\"Mean\", \"Stdev\")\n",
    "    df[\"Stdev_to_Mean_ratio_\" + col.replace(\"Group.Mean\",\"\")] = df[stdev_col] / df[col]\n",
    "\n",
    "df\n"
   ]
  },
  {
   "cell_type": "code",
   "execution_count": null,
   "metadata": {},
   "outputs": [],
   "source": [
    "# Write results to csv file named log2fc_flag_characterization.csv\n",
    "df.to_csv(OUTPUT_PATH)"
   ]
  }
 ],
 "metadata": {
  "kernelspec": {
   "display_name": "base",
   "language": "python",
   "name": "python3"
  },
  "language_info": {
   "codemirror_mode": {
    "name": "ipython",
    "version": 3
   },
   "file_extension": ".py",
   "mimetype": "text/x-python",
   "name": "python",
   "nbconvert_exporter": "python",
   "pygments_lexer": "ipython3",
   "version": "3.10.10"
  },
  "orig_nbformat": 4
 },
 "nbformat": 4,
 "nbformat_minor": 2
}
